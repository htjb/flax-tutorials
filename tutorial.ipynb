{
 "cells": [
  {
   "cell_type": "code",
   "execution_count": 10,
   "id": "8d0f6126",
   "metadata": {},
   "outputs": [],
   "source": [
    "import tensorflow as tf\n",
    "import tensorflow_datasets as tfds\n",
    "\n",
    "def get_datasets(num_epochs: int, batch_size: int):\n",
    "    \"\"\"Load the MNIST dataset and prepare it for training.\"\"\"\n",
    "    train_ds = tfds.load('mnist', split='train')\n",
    "    test_ds = tfds.load('mnist', split='test')\n",
    "\n",
    "    train_ds = train_ds.map(lambda sample: \n",
    "            {'image': tf.cast(sample['image'], tf.float32) / 255.0,\n",
    "            'label': sample['label']})\n",
    "    test_ds = test_ds.map(lambda sample: \n",
    "            {'image': tf.cast(sample['image'], tf.float32) / 255.0,\n",
    "            'label': sample['label']})\n",
    "    \n",
    "    train_ds = train_ds.repeat(num_epochs).shuffle(1024)\n",
    "    train_ds = train_ds.batch(batch_size, drop_remainder=True)\n",
    "    test_ds = test_ds.shuffle(1024).batch(batch_size, drop_remainder=True)\n",
    "\n",
    "    return train_ds, test_ds\n",
    "                            "
   ]
  },
  {
   "cell_type": "code",
   "execution_count": null,
   "id": "344ef93d",
   "metadata": {},
   "outputs": [],
   "source": [
    "from flax import linen as nn\n",
    "\n",
    "class CNN(nn.Module):\n",
    "    \"\"\"A simple CNN model.\"\"\"\n",
    "\n",
    "    @nn.compact\n",
    "    def __call__(self, x):\n",
    "        x = nn.Conv(features=32, kernel_size=(3, 3))(x)\n",
    "        x = nn.relu(x)\n",
    "        x = nn.avg_pool(x, window_shape=(2, 2), strides=(2, 2))\n",
    "        x = nn.Conv(features=64, kernel_size=(3, 3))(x)\n",
    "        x = nn.relu(x)\n",
    "        x = nn.avg_pool(x, window_shape=(2, 2), strides=(2, 2))\n",
    "        x = x.reshape((x.shape[0], -1))\n",
    "        x = nn.Dense(features=256)(x)\n",
    "        x = nn.relu(x)\n",
    "        x = nn.Dense(features=10)(x)\n",
    "        return x\n",
    "        "
   ]
  }
 ],
 "metadata": {
  "kernelspec": {
   "display_name": "Python 3",
   "language": "python",
   "name": "python3"
  },
  "language_info": {
   "codemirror_mode": {
    "name": "ipython",
    "version": 3
   },
   "file_extension": ".py",
   "mimetype": "text/x-python",
   "name": "python",
   "nbconvert_exporter": "python",
   "pygments_lexer": "ipython3",
   "version": "3.11.11"
  }
 },
 "nbformat": 4,
 "nbformat_minor": 5
}
